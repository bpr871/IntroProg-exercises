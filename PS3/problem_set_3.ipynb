{
 "cells": [
  {
   "cell_type": "markdown",
   "metadata": {},
   "source": [
    "# Problem set 3: Loading and structuring data from Denmark Statistics"
   ]
  },
  {
   "cell_type": "code",
   "execution_count": 63,
   "metadata": {},
   "outputs": [],
   "source": [
    "%matplotlib inline\n",
    "import numpy as np\n",
    "import matplotlib.pyplot as plt\n",
    "plt.style.use('seaborn-whitegrid')\n",
    "import pandas as pd\n",
    "import ipywidgets as widgets"
   ]
  },
  {
   "cell_type": "markdown",
   "metadata": {},
   "source": [
    "# Tasks"
   ]
  },
  {
   "cell_type": "markdown",
   "metadata": {},
   "source": [
    "## Create a pandas DataFrame"
   ]
  },
  {
   "cell_type": "markdown",
   "metadata": {},
   "source": [
    "Modify the code below such that *income* and *consumption* are variables in the *dt* DataFrame."
   ]
  },
  {
   "cell_type": "code",
   "execution_count": 64,
   "metadata": {},
   "outputs": [
    {
     "data": {
      "text/html": [
       "<div>\n",
       "<style scoped>\n",
       "    .dataframe tbody tr th:only-of-type {\n",
       "        vertical-align: middle;\n",
       "    }\n",
       "\n",
       "    .dataframe tbody tr th {\n",
       "        vertical-align: top;\n",
       "    }\n",
       "\n",
       "    .dataframe thead th {\n",
       "        text-align: right;\n",
       "    }\n",
       "</style>\n",
       "<table border=\"1\" class=\"dataframe\">\n",
       "  <thead>\n",
       "    <tr style=\"text-align: right;\">\n",
       "      <th></th>\n",
       "      <th>id</th>\n",
       "      <th>income</th>\n",
       "      <th>consumption</th>\n",
       "    </tr>\n",
       "  </thead>\n",
       "  <tbody>\n",
       "    <tr>\n",
       "      <th>0</th>\n",
       "      <td>0</td>\n",
       "      <td>0.727981</td>\n",
       "      <td>0.853218</td>\n",
       "    </tr>\n",
       "    <tr>\n",
       "      <th>1</th>\n",
       "      <td>1</td>\n",
       "      <td>1.997831</td>\n",
       "      <td>1.413447</td>\n",
       "    </tr>\n",
       "    <tr>\n",
       "      <th>2</th>\n",
       "      <td>2</td>\n",
       "      <td>0.276823</td>\n",
       "      <td>0.526140</td>\n",
       "    </tr>\n",
       "    <tr>\n",
       "      <th>3</th>\n",
       "      <td>3</td>\n",
       "      <td>1.481931</td>\n",
       "      <td>1.217346</td>\n",
       "    </tr>\n",
       "    <tr>\n",
       "      <th>4</th>\n",
       "      <td>4</td>\n",
       "      <td>1.235904</td>\n",
       "      <td>1.111712</td>\n",
       "    </tr>\n",
       "  </tbody>\n",
       "</table>\n",
       "</div>"
      ],
      "text/plain": [
       "   id    income  consumption\n",
       "0   0  0.727981     0.853218\n",
       "1   1  1.997831     1.413447\n",
       "2   2  0.276823     0.526140\n",
       "3   3  1.481931     1.217346\n",
       "4   4  1.235904     1.111712"
      ]
     },
     "execution_count": 64,
     "metadata": {},
     "output_type": "execute_result"
    }
   ],
   "source": [
    "np.random.seed(1999)\n",
    " \n",
    "N = 100\n",
    "mydata = {}\n",
    "mydata['id'] = range(N)\n",
    "income = np.exp(np.random.normal(size=N))\n",
    "consumption = np.sqrt(income)\n",
    "\n",
    "mydata['income'] = income\n",
    "mydata['consumption'] = consumption\n",
    "\n",
    "dt = pd.DataFrame(mydata)\n",
    "dt.head()"
   ]
  },
  {
   "cell_type": "markdown",
   "metadata": {},
   "source": [
    "**Answer:** see A01.py"
   ]
  },
  {
   "cell_type": "markdown",
   "metadata": {},
   "source": [
    "## Create new variable"
   ]
  },
  {
   "cell_type": "markdown",
   "metadata": {},
   "source": [
    "1) Add a new variable *ratio* which is the ratio of consumption to income."
   ]
  },
  {
   "cell_type": "code",
   "execution_count": 65,
   "metadata": {},
   "outputs": [
    {
     "data": {
      "text/html": [
       "<div>\n",
       "<style scoped>\n",
       "    .dataframe tbody tr th:only-of-type {\n",
       "        vertical-align: middle;\n",
       "    }\n",
       "\n",
       "    .dataframe tbody tr th {\n",
       "        vertical-align: top;\n",
       "    }\n",
       "\n",
       "    .dataframe thead th {\n",
       "        text-align: right;\n",
       "    }\n",
       "</style>\n",
       "<table border=\"1\" class=\"dataframe\">\n",
       "  <thead>\n",
       "    <tr style=\"text-align: right;\">\n",
       "      <th></th>\n",
       "      <th>id</th>\n",
       "      <th>income</th>\n",
       "      <th>consumption</th>\n",
       "      <th>ratio</th>\n",
       "    </tr>\n",
       "  </thead>\n",
       "  <tbody>\n",
       "    <tr>\n",
       "      <th>0</th>\n",
       "      <td>0</td>\n",
       "      <td>0.727981</td>\n",
       "      <td>0.853218</td>\n",
       "      <td>1.172033</td>\n",
       "    </tr>\n",
       "    <tr>\n",
       "      <th>1</th>\n",
       "      <td>1</td>\n",
       "      <td>1.997831</td>\n",
       "      <td>1.413447</td>\n",
       "      <td>0.707490</td>\n",
       "    </tr>\n",
       "    <tr>\n",
       "      <th>2</th>\n",
       "      <td>2</td>\n",
       "      <td>0.276823</td>\n",
       "      <td>0.526140</td>\n",
       "      <td>1.900636</td>\n",
       "    </tr>\n",
       "    <tr>\n",
       "      <th>3</th>\n",
       "      <td>3</td>\n",
       "      <td>1.481931</td>\n",
       "      <td>1.217346</td>\n",
       "      <td>0.821459</td>\n",
       "    </tr>\n",
       "    <tr>\n",
       "      <th>4</th>\n",
       "      <td>4</td>\n",
       "      <td>1.235904</td>\n",
       "      <td>1.111712</td>\n",
       "      <td>0.899513</td>\n",
       "    </tr>\n",
       "  </tbody>\n",
       "</table>\n",
       "</div>"
      ],
      "text/plain": [
       "   id    income  consumption     ratio\n",
       "0   0  0.727981     0.853218  1.172033\n",
       "1   1  1.997831     1.413447  0.707490\n",
       "2   2  0.276823     0.526140  1.900636\n",
       "3   3  1.481931     1.217346  0.821459\n",
       "4   4  1.235904     1.111712  0.899513"
      ]
     },
     "execution_count": 65,
     "metadata": {},
     "output_type": "execute_result"
    }
   ],
   "source": [
    "# write your code here\n",
    "dt.head()\n",
    "dt['ratio'] = consumption/income\n",
    "dt.head()"
   ]
  },
  {
   "cell_type": "markdown",
   "metadata": {},
   "source": [
    "**Answer:** See A02.py"
   ]
  },
  {
   "cell_type": "markdown",
   "metadata": {},
   "source": [
    "## Summary statistics"
   ]
  },
  {
   "cell_type": "markdown",
   "metadata": {},
   "source": [
    "Produce summary statistics using `.describe()`."
   ]
  },
  {
   "cell_type": "code",
   "execution_count": 66,
   "metadata": {},
   "outputs": [
    {
     "data": {
      "text/html": [
       "<div>\n",
       "<style scoped>\n",
       "    .dataframe tbody tr th:only-of-type {\n",
       "        vertical-align: middle;\n",
       "    }\n",
       "\n",
       "    .dataframe tbody tr th {\n",
       "        vertical-align: top;\n",
       "    }\n",
       "\n",
       "    .dataframe thead th {\n",
       "        text-align: right;\n",
       "    }\n",
       "</style>\n",
       "<table border=\"1\" class=\"dataframe\">\n",
       "  <thead>\n",
       "    <tr style=\"text-align: right;\">\n",
       "      <th></th>\n",
       "      <th>id</th>\n",
       "      <th>income</th>\n",
       "      <th>consumption</th>\n",
       "      <th>ratio</th>\n",
       "    </tr>\n",
       "  </thead>\n",
       "  <tbody>\n",
       "    <tr>\n",
       "      <th>count</th>\n",
       "      <td>100.000000</td>\n",
       "      <td>100.000000</td>\n",
       "      <td>100.000000</td>\n",
       "      <td>100.000000</td>\n",
       "    </tr>\n",
       "    <tr>\n",
       "      <th>mean</th>\n",
       "      <td>49.500000</td>\n",
       "      <td>1.415547</td>\n",
       "      <td>1.087844</td>\n",
       "      <td>1.117517</td>\n",
       "    </tr>\n",
       "    <tr>\n",
       "      <th>std</th>\n",
       "      <td>29.011492</td>\n",
       "      <td>1.322203</td>\n",
       "      <td>0.484238</td>\n",
       "      <td>0.525452</td>\n",
       "    </tr>\n",
       "    <tr>\n",
       "      <th>min</th>\n",
       "      <td>0.000000</td>\n",
       "      <td>0.108402</td>\n",
       "      <td>0.329245</td>\n",
       "      <td>0.351134</td>\n",
       "    </tr>\n",
       "    <tr>\n",
       "      <th>25%</th>\n",
       "      <td>24.750000</td>\n",
       "      <td>0.529323</td>\n",
       "      <td>0.727545</td>\n",
       "      <td>0.752310</td>\n",
       "    </tr>\n",
       "    <tr>\n",
       "      <th>50%</th>\n",
       "      <td>49.500000</td>\n",
       "      <td>0.981178</td>\n",
       "      <td>0.990533</td>\n",
       "      <td>1.009580</td>\n",
       "    </tr>\n",
       "    <tr>\n",
       "      <th>75%</th>\n",
       "      <td>74.250000</td>\n",
       "      <td>1.768211</td>\n",
       "      <td>1.329572</td>\n",
       "      <td>1.374491</td>\n",
       "    </tr>\n",
       "    <tr>\n",
       "      <th>max</th>\n",
       "      <td>99.000000</td>\n",
       "      <td>8.110612</td>\n",
       "      <td>2.847914</td>\n",
       "      <td>3.037255</td>\n",
       "    </tr>\n",
       "  </tbody>\n",
       "</table>\n",
       "</div>"
      ],
      "text/plain": [
       "               id      income  consumption       ratio\n",
       "count  100.000000  100.000000   100.000000  100.000000\n",
       "mean    49.500000    1.415547     1.087844    1.117517\n",
       "std     29.011492    1.322203     0.484238    0.525452\n",
       "min      0.000000    0.108402     0.329245    0.351134\n",
       "25%     24.750000    0.529323     0.727545    0.752310\n",
       "50%     49.500000    0.981178     0.990533    1.009580\n",
       "75%     74.250000    1.768211     1.329572    1.374491\n",
       "max     99.000000    8.110612     2.847914    3.037255"
      ]
     },
     "execution_count": 66,
     "metadata": {},
     "output_type": "execute_result"
    }
   ],
   "source": [
    "# write your code here\n",
    "dt.describe()"
   ]
  },
  {
   "cell_type": "markdown",
   "metadata": {},
   "source": [
    "**Answer:** See A03.py"
   ]
  },
  {
   "cell_type": "markdown",
   "metadata": {},
   "source": [
    "## Indexing"
   ]
  },
  {
   "cell_type": "markdown",
   "metadata": {},
   "source": [
    "Select everybody with an income above 1."
   ]
  },
  {
   "cell_type": "code",
   "execution_count": 67,
   "metadata": {},
   "outputs": [
    {
     "data": {
      "text/html": [
       "<div>\n",
       "<style scoped>\n",
       "    .dataframe tbody tr th:only-of-type {\n",
       "        vertical-align: middle;\n",
       "    }\n",
       "\n",
       "    .dataframe tbody tr th {\n",
       "        vertical-align: top;\n",
       "    }\n",
       "\n",
       "    .dataframe thead th {\n",
       "        text-align: right;\n",
       "    }\n",
       "</style>\n",
       "<table border=\"1\" class=\"dataframe\">\n",
       "  <thead>\n",
       "    <tr style=\"text-align: right;\">\n",
       "      <th></th>\n",
       "      <th>id</th>\n",
       "      <th>income</th>\n",
       "      <th>consumption</th>\n",
       "      <th>ratio</th>\n",
       "    </tr>\n",
       "  </thead>\n",
       "  <tbody>\n",
       "    <tr>\n",
       "      <th>1</th>\n",
       "      <td>1</td>\n",
       "      <td>1.997831</td>\n",
       "      <td>1.413447</td>\n",
       "      <td>0.707490</td>\n",
       "    </tr>\n",
       "    <tr>\n",
       "      <th>3</th>\n",
       "      <td>3</td>\n",
       "      <td>1.481931</td>\n",
       "      <td>1.217346</td>\n",
       "      <td>0.821459</td>\n",
       "    </tr>\n",
       "    <tr>\n",
       "      <th>4</th>\n",
       "      <td>4</td>\n",
       "      <td>1.235904</td>\n",
       "      <td>1.111712</td>\n",
       "      <td>0.899513</td>\n",
       "    </tr>\n",
       "    <tr>\n",
       "      <th>6</th>\n",
       "      <td>6</td>\n",
       "      <td>2.574032</td>\n",
       "      <td>1.604379</td>\n",
       "      <td>0.623294</td>\n",
       "    </tr>\n",
       "    <tr>\n",
       "      <th>7</th>\n",
       "      <td>7</td>\n",
       "      <td>2.475478</td>\n",
       "      <td>1.573365</td>\n",
       "      <td>0.635580</td>\n",
       "    </tr>\n",
       "  </tbody>\n",
       "</table>\n",
       "</div>"
      ],
      "text/plain": [
       "   id    income  consumption     ratio\n",
       "1   1  1.997831     1.413447  0.707490\n",
       "3   3  1.481931     1.217346  0.821459\n",
       "4   4  1.235904     1.111712  0.899513\n",
       "6   6  2.574032     1.604379  0.623294\n",
       "7   7  2.475478     1.573365  0.635580"
      ]
     },
     "execution_count": 67,
     "metadata": {},
     "output_type": "execute_result"
    }
   ],
   "source": [
    "# write your code here\n",
    "dt.head()\n",
    "dt1 = dt.loc[dt['income'] > 1]\n",
    "dt1.head()"
   ]
  },
  {
   "cell_type": "markdown",
   "metadata": {},
   "source": [
    "**Answer:** See A04.py"
   ]
  },
  {
   "cell_type": "markdown",
   "metadata": {},
   "source": [
    "Select everybody with an income *above* 1 and a ratio *above* 0.7."
   ]
  },
  {
   "cell_type": "code",
   "execution_count": 68,
   "metadata": {},
   "outputs": [
    {
     "data": {
      "text/html": [
       "<div>\n",
       "<style scoped>\n",
       "    .dataframe tbody tr th:only-of-type {\n",
       "        vertical-align: middle;\n",
       "    }\n",
       "\n",
       "    .dataframe tbody tr th {\n",
       "        vertical-align: top;\n",
       "    }\n",
       "\n",
       "    .dataframe thead th {\n",
       "        text-align: right;\n",
       "    }\n",
       "</style>\n",
       "<table border=\"1\" class=\"dataframe\">\n",
       "  <thead>\n",
       "    <tr style=\"text-align: right;\">\n",
       "      <th></th>\n",
       "      <th>id</th>\n",
       "      <th>income</th>\n",
       "      <th>consumption</th>\n",
       "      <th>ratio</th>\n",
       "    </tr>\n",
       "  </thead>\n",
       "  <tbody>\n",
       "    <tr>\n",
       "      <th>1</th>\n",
       "      <td>1</td>\n",
       "      <td>1.997831</td>\n",
       "      <td>1.413447</td>\n",
       "      <td>0.707490</td>\n",
       "    </tr>\n",
       "    <tr>\n",
       "      <th>3</th>\n",
       "      <td>3</td>\n",
       "      <td>1.481931</td>\n",
       "      <td>1.217346</td>\n",
       "      <td>0.821459</td>\n",
       "    </tr>\n",
       "    <tr>\n",
       "      <th>4</th>\n",
       "      <td>4</td>\n",
       "      <td>1.235904</td>\n",
       "      <td>1.111712</td>\n",
       "      <td>0.899513</td>\n",
       "    </tr>\n",
       "    <tr>\n",
       "      <th>11</th>\n",
       "      <td>11</td>\n",
       "      <td>2.031708</td>\n",
       "      <td>1.425380</td>\n",
       "      <td>0.701567</td>\n",
       "    </tr>\n",
       "    <tr>\n",
       "      <th>18</th>\n",
       "      <td>18</td>\n",
       "      <td>1.280235</td>\n",
       "      <td>1.131475</td>\n",
       "      <td>0.883802</td>\n",
       "    </tr>\n",
       "  </tbody>\n",
       "</table>\n",
       "</div>"
      ],
      "text/plain": [
       "    id    income  consumption     ratio\n",
       "1    1  1.997831     1.413447  0.707490\n",
       "3    3  1.481931     1.217346  0.821459\n",
       "4    4  1.235904     1.111712  0.899513\n",
       "11  11  2.031708     1.425380  0.701567\n",
       "18  18  1.280235     1.131475  0.883802"
      ]
     },
     "execution_count": 68,
     "metadata": {},
     "output_type": "execute_result"
    }
   ],
   "source": [
    "# write your code here\n",
    "dt1 = dt.loc[(dt.income > 1) & (dt.ratio > 0.7)]\n",
    "dt1.head()"
   ]
  },
  {
   "cell_type": "markdown",
   "metadata": {},
   "source": [
    "**Answer:** See A05.py"
   ]
  },
  {
   "cell_type": "markdown",
   "metadata": {},
   "source": [
    "Set consumption equal to 0.5 if income is less than 0.5."
   ]
  },
  {
   "cell_type": "code",
   "execution_count": 69,
   "metadata": {},
   "outputs": [
    {
     "data": {
      "text/html": [
       "<div>\n",
       "<style scoped>\n",
       "    .dataframe tbody tr th:only-of-type {\n",
       "        vertical-align: middle;\n",
       "    }\n",
       "\n",
       "    .dataframe tbody tr th {\n",
       "        vertical-align: top;\n",
       "    }\n",
       "\n",
       "    .dataframe thead th {\n",
       "        text-align: right;\n",
       "    }\n",
       "</style>\n",
       "<table border=\"1\" class=\"dataframe\">\n",
       "  <thead>\n",
       "    <tr style=\"text-align: right;\">\n",
       "      <th></th>\n",
       "      <th>id</th>\n",
       "      <th>income</th>\n",
       "      <th>consumption</th>\n",
       "      <th>ratio</th>\n",
       "    </tr>\n",
       "  </thead>\n",
       "  <tbody>\n",
       "    <tr>\n",
       "      <th>0</th>\n",
       "      <td>0</td>\n",
       "      <td>0.727981</td>\n",
       "      <td>0.853218</td>\n",
       "      <td>1.172033</td>\n",
       "    </tr>\n",
       "    <tr>\n",
       "      <th>1</th>\n",
       "      <td>1</td>\n",
       "      <td>1.997831</td>\n",
       "      <td>1.413447</td>\n",
       "      <td>0.707490</td>\n",
       "    </tr>\n",
       "    <tr>\n",
       "      <th>2</th>\n",
       "      <td>2</td>\n",
       "      <td>0.276823</td>\n",
       "      <td>0.500000</td>\n",
       "      <td>1.900636</td>\n",
       "    </tr>\n",
       "    <tr>\n",
       "      <th>3</th>\n",
       "      <td>3</td>\n",
       "      <td>1.481931</td>\n",
       "      <td>1.217346</td>\n",
       "      <td>0.821459</td>\n",
       "    </tr>\n",
       "    <tr>\n",
       "      <th>4</th>\n",
       "      <td>4</td>\n",
       "      <td>1.235904</td>\n",
       "      <td>1.111712</td>\n",
       "      <td>0.899513</td>\n",
       "    </tr>\n",
       "  </tbody>\n",
       "</table>\n",
       "</div>"
      ],
      "text/plain": [
       "   id    income  consumption     ratio\n",
       "0   0  0.727981     0.853218  1.172033\n",
       "1   1  1.997831     1.413447  0.707490\n",
       "2   2  0.276823     0.500000  1.900636\n",
       "3   3  1.481931     1.217346  0.821459\n",
       "4   4  1.235904     1.111712  0.899513"
      ]
     },
     "execution_count": 69,
     "metadata": {},
     "output_type": "execute_result"
    }
   ],
   "source": [
    "# write your code here\n",
    "# dt['consumption'].mean() # <- compare with answer\n",
    "dt.loc[dt.income < 0.5, ['consumption']] = 0.5\n",
    "dt.head()"
   ]
  },
  {
   "cell_type": "markdown",
   "metadata": {},
   "source": [
    "**Answer:**  See A06.py"
   ]
  },
  {
   "cell_type": "markdown",
   "metadata": {},
   "source": [
    "Set consumption equal to income if income is less than 0.5."
   ]
  },
  {
   "cell_type": "code",
   "execution_count": 70,
   "metadata": {},
   "outputs": [
    {
     "data": {
      "text/html": [
       "<div>\n",
       "<style scoped>\n",
       "    .dataframe tbody tr th:only-of-type {\n",
       "        vertical-align: middle;\n",
       "    }\n",
       "\n",
       "    .dataframe tbody tr th {\n",
       "        vertical-align: top;\n",
       "    }\n",
       "\n",
       "    .dataframe thead th {\n",
       "        text-align: right;\n",
       "    }\n",
       "</style>\n",
       "<table border=\"1\" class=\"dataframe\">\n",
       "  <thead>\n",
       "    <tr style=\"text-align: right;\">\n",
       "      <th></th>\n",
       "      <th>id</th>\n",
       "      <th>income</th>\n",
       "      <th>consumption</th>\n",
       "      <th>ratio</th>\n",
       "    </tr>\n",
       "  </thead>\n",
       "  <tbody>\n",
       "    <tr>\n",
       "      <th>0</th>\n",
       "      <td>0</td>\n",
       "      <td>0.727981</td>\n",
       "      <td>0.853218</td>\n",
       "      <td>1.172033</td>\n",
       "    </tr>\n",
       "    <tr>\n",
       "      <th>1</th>\n",
       "      <td>1</td>\n",
       "      <td>1.997831</td>\n",
       "      <td>1.413447</td>\n",
       "      <td>0.707490</td>\n",
       "    </tr>\n",
       "    <tr>\n",
       "      <th>2</th>\n",
       "      <td>2</td>\n",
       "      <td>0.276823</td>\n",
       "      <td>0.276823</td>\n",
       "      <td>1.900636</td>\n",
       "    </tr>\n",
       "    <tr>\n",
       "      <th>3</th>\n",
       "      <td>3</td>\n",
       "      <td>1.481931</td>\n",
       "      <td>1.217346</td>\n",
       "      <td>0.821459</td>\n",
       "    </tr>\n",
       "    <tr>\n",
       "      <th>4</th>\n",
       "      <td>4</td>\n",
       "      <td>1.235904</td>\n",
       "      <td>1.111712</td>\n",
       "      <td>0.899513</td>\n",
       "    </tr>\n",
       "  </tbody>\n",
       "</table>\n",
       "</div>"
      ],
      "text/plain": [
       "   id    income  consumption     ratio\n",
       "0   0  0.727981     0.853218  1.172033\n",
       "1   1  1.997831     1.413447  0.707490\n",
       "2   2  0.276823     0.276823  1.900636\n",
       "3   3  1.481931     1.217346  0.821459\n",
       "4   4  1.235904     1.111712  0.899513"
      ]
     },
     "execution_count": 70,
     "metadata": {},
     "output_type": "execute_result"
    }
   ],
   "source": [
    "# write your code here\n",
    "# dt['consumption'].mean() # <- compare with answer\n",
    "dt.loc[dt.income < 0.5, ['consumption']] = dt.income\n",
    "dt.head()"
   ]
  },
  {
   "cell_type": "markdown",
   "metadata": {},
   "source": [
    "**Answer:** See A07.py"
   ]
  },
  {
   "cell_type": "markdown",
   "metadata": {},
   "source": [
    "## Dropping"
   ]
  },
  {
   "cell_type": "markdown",
   "metadata": {},
   "source": [
    "Drop the *ratio* variable and all rows with an income above 1.5. After this, also drop the first 5 rows."
   ]
  },
  {
   "cell_type": "code",
   "execution_count": 71,
   "metadata": {},
   "outputs": [
    {
     "name": "stdout",
     "output_type": "stream",
     "text": [
      "before: 100 observations, 4 variables\n",
      "after: 65 observations, 3 variables\n"
     ]
    }
   ],
   "source": [
    "print(f'before: {dt.shape[0]} observations, {dt.shape[1]} variables')\n",
    "# write your code here\n",
    "dt.drop('ratio', axis=1, inplace=True)\n",
    "dt = dt.loc[dt.income <= 1.5,]\n",
    "dt = dt.loc[dt.index>5,]\n",
    "\n",
    "print(f'after: {dt.shape[0]} observations, {dt.shape[1]} variables')"
   ]
  },
  {
   "cell_type": "markdown",
   "metadata": {},
   "source": [
    "**Answer:** see A08.py"
   ]
  },
  {
   "cell_type": "markdown",
   "metadata": {},
   "source": [
    "## Renaming"
   ]
  },
  {
   "cell_type": "markdown",
   "metadata": {},
   "source": [
    "Rename *consumption* to *cons* and *income* to *inc*."
   ]
  },
  {
   "cell_type": "code",
   "execution_count": 76,
   "metadata": {},
   "outputs": [
    {
     "data": {
      "text/html": [
       "<div>\n",
       "<style scoped>\n",
       "    .dataframe tbody tr th:only-of-type {\n",
       "        vertical-align: middle;\n",
       "    }\n",
       "\n",
       "    .dataframe tbody tr th {\n",
       "        vertical-align: top;\n",
       "    }\n",
       "\n",
       "    .dataframe thead th {\n",
       "        text-align: right;\n",
       "    }\n",
       "</style>\n",
       "<table border=\"1\" class=\"dataframe\">\n",
       "  <thead>\n",
       "    <tr style=\"text-align: right;\">\n",
       "      <th></th>\n",
       "      <th>id</th>\n",
       "      <th>inc</th>\n",
       "      <th>cons</th>\n",
       "    </tr>\n",
       "  </thead>\n",
       "  <tbody>\n",
       "    <tr>\n",
       "      <th>8</th>\n",
       "      <td>8</td>\n",
       "      <td>0.582074</td>\n",
       "      <td>0.762938</td>\n",
       "    </tr>\n",
       "    <tr>\n",
       "      <th>10</th>\n",
       "      <td>10</td>\n",
       "      <td>0.932044</td>\n",
       "      <td>0.965424</td>\n",
       "    </tr>\n",
       "    <tr>\n",
       "      <th>12</th>\n",
       "      <td>12</td>\n",
       "      <td>0.356952</td>\n",
       "      <td>0.356952</td>\n",
       "    </tr>\n",
       "    <tr>\n",
       "      <th>13</th>\n",
       "      <td>13</td>\n",
       "      <td>0.379825</td>\n",
       "      <td>0.379825</td>\n",
       "    </tr>\n",
       "    <tr>\n",
       "      <th>16</th>\n",
       "      <td>16</td>\n",
       "      <td>0.700896</td>\n",
       "      <td>0.837195</td>\n",
       "    </tr>\n",
       "  </tbody>\n",
       "</table>\n",
       "</div>"
      ],
      "text/plain": [
       "    id       inc      cons\n",
       "8    8  0.582074  0.762938\n",
       "10  10  0.932044  0.965424\n",
       "12  12  0.356952  0.356952\n",
       "13  13  0.379825  0.379825\n",
       "16  16  0.700896  0.837195"
      ]
     },
     "execution_count": 76,
     "metadata": {},
     "output_type": "execute_result"
    }
   ],
   "source": [
    "# write your code\n",
    "dt.rename(columns={'income': 'inc'}, inplace=True) #inplace betyder at vi erstatter det eksisterende navn\n",
    "dt.rename(columns={'consumption': 'cons'}, inplace=True) #inplace betyder at vi erstatter det eksisterende navn\n",
    "dt.head()"
   ]
  },
  {
   "cell_type": "markdown",
   "metadata": {},
   "source": [
    "**Answer:** see A09.py"
   ]
  },
  {
   "cell_type": "markdown",
   "metadata": {},
   "source": [
    "## Functions"
   ]
  },
  {
   "cell_type": "markdown",
   "metadata": {},
   "source": [
    "Correct the wrong lines such that `assets_1 = assets_2 = assets_3 = assets_4`."
   ]
  },
  {
   "cell_type": "code",
   "execution_count": 77,
   "metadata": {},
   "outputs": [
    {
     "name": "stdout",
     "output_type": "stream",
     "text": [
      "failed\n"
     ]
    },
    {
     "data": {
      "text/html": [
       "<div>\n",
       "<style scoped>\n",
       "    .dataframe tbody tr th:only-of-type {\n",
       "        vertical-align: middle;\n",
       "    }\n",
       "\n",
       "    .dataframe tbody tr th {\n",
       "        vertical-align: top;\n",
       "    }\n",
       "\n",
       "    .dataframe thead th {\n",
       "        text-align: right;\n",
       "    }\n",
       "</style>\n",
       "<table border=\"1\" class=\"dataframe\">\n",
       "  <thead>\n",
       "    <tr style=\"text-align: right;\">\n",
       "      <th></th>\n",
       "      <th>id</th>\n",
       "      <th>inc</th>\n",
       "      <th>cons</th>\n",
       "    </tr>\n",
       "  </thead>\n",
       "  <tbody>\n",
       "    <tr>\n",
       "      <th>8</th>\n",
       "      <td>8</td>\n",
       "      <td>0.582074</td>\n",
       "      <td>0.762938</td>\n",
       "    </tr>\n",
       "    <tr>\n",
       "      <th>10</th>\n",
       "      <td>10</td>\n",
       "      <td>0.932044</td>\n",
       "      <td>0.965424</td>\n",
       "    </tr>\n",
       "    <tr>\n",
       "      <th>12</th>\n",
       "      <td>12</td>\n",
       "      <td>0.356952</td>\n",
       "      <td>0.356952</td>\n",
       "    </tr>\n",
       "    <tr>\n",
       "      <th>13</th>\n",
       "      <td>13</td>\n",
       "      <td>0.379825</td>\n",
       "      <td>0.379825</td>\n",
       "    </tr>\n",
       "    <tr>\n",
       "      <th>16</th>\n",
       "      <td>16</td>\n",
       "      <td>0.700896</td>\n",
       "      <td>0.837195</td>\n",
       "    </tr>\n",
       "  </tbody>\n",
       "</table>\n",
       "</div>"
      ],
      "text/plain": [
       "    id       inc      cons\n",
       "8    8  0.582074  0.762938\n",
       "10  10  0.932044  0.965424\n",
       "12  12  0.356952  0.356952\n",
       "13  13  0.379825  0.379825\n",
       "16  16  0.700896  0.837195"
      ]
     },
     "execution_count": 77,
     "metadata": {},
     "output_type": "execute_result"
    }
   ],
   "source": [
    "def assets_row_by_row(x,R,Y):\n",
    "    return 0 # wrong line\n",
    "    \n",
    "def assets_all_at_once(income,consumption,R,Y):\n",
    "    return 0 # wrong line\n",
    "\n",
    "def assets_adj(assets,R,Y):\n",
    "    # missing lines\n",
    "    pass\n",
    "\n",
    "R = 1.2 # return rate\n",
    "Y = 1 # income\n",
    "try:\n",
    "    dt['assets_1'] = R*(dt['inc']-dt['con'])+Y\n",
    "    dt['assets_2'] = dt.apply(assets_row_by_row,axis=1,args=(R,Y))\n",
    "    dt['assets_3'] = assets_all_at_once(dt['inc'].values(),dt['con'].values(),R,Y)\n",
    "    dt['assets_4'] = dt['inc']-dt['con']\n",
    "    assets_adj(dt['assets_4'],R,Y)\n",
    "except:\n",
    "    print('failed')\n",
    "dt.head()    "
   ]
  },
  {
   "cell_type": "markdown",
   "metadata": {},
   "source": [
    "**Answer:** see A10.py"
   ]
  },
  {
   "cell_type": "markdown",
   "metadata": {},
   "source": [
    "# Problem"
   ]
  },
  {
   "cell_type": "markdown",
   "metadata": {},
   "source": [
    "Load the data set in *data/NAH1_pivoted.xlsx* and clean and structure it such that the `plot_timeseries(dataframe)` below can be run and produce an interactive figure. "
   ]
  },
  {
   "cell_type": "code",
   "execution_count": 84,
   "metadata": {},
   "outputs": [],
   "source": [
    "# Rename dictionary for renames all the columns\n",
    "rename_dict = {}\n",
    "rename_dict['P.1 Output'] = 'Y'\n",
    "rename_dict['P.3 Final consumption expenditure'] = 'C'\n",
    "rename_dict['P.3 Government consumption expenditure'] = 'G'\n",
    "rename_dict['P.5 Gross capital formation'] = 'I'\n",
    "rename_dict['P.6 Export of goods and services'] = 'X'\n",
    "rename_dict['P.7 Import of goods and services'] = 'M'"
   ]
  },
  {
   "cell_type": "code",
   "execution_count": 119,
   "metadata": {},
   "outputs": [
    {
     "name": "stdout",
     "output_type": "stream",
     "text": [
      "4\n",
      "(1, 3, 5)\n"
     ]
    },
    {
     "data": {
      "text/html": [
       "<div>\n",
       "<style scoped>\n",
       "    .dataframe tbody tr th:only-of-type {\n",
       "        vertical-align: middle;\n",
       "    }\n",
       "\n",
       "    .dataframe tbody tr th {\n",
       "        vertical-align: top;\n",
       "    }\n",
       "\n",
       "    .dataframe thead th {\n",
       "        text-align: right;\n",
       "    }\n",
       "</style>\n",
       "<table border=\"1\" class=\"dataframe\">\n",
       "  <thead>\n",
       "    <tr style=\"text-align: right;\">\n",
       "      <th></th>\n",
       "      <th>year</th>\n",
       "      <th>Unnamed: 1</th>\n",
       "      <th>Y</th>\n",
       "      <th>P.11 Market output</th>\n",
       "      <th>P.12 Output for own final use</th>\n",
       "      <th>P.13 Non-market output</th>\n",
       "      <th>P.131 Payment for other non-marked output</th>\n",
       "      <th>P.132 Other non-market output</th>\n",
       "      <th>P.11+P.12+P.131 Market output and output for own final use including payment for other non-marked output</th>\n",
       "      <th>D.21-D.31 Taxes less subsidies on products</th>\n",
       "      <th>...</th>\n",
       "      <th>P.32 Government collective consumption expenditure</th>\n",
       "      <th>I</th>\n",
       "      <th>P.51g Gross fixed capital formation</th>\n",
       "      <th>P.52+P.53 Changes in inventories etc.</th>\n",
       "      <th>P.52 Changes in inventories</th>\n",
       "      <th>P.53 Acquisitions less disposals of valuables</th>\n",
       "      <th>X</th>\n",
       "      <th>P.61 Export of goods</th>\n",
       "      <th>P.62 Export of services</th>\n",
       "      <th>Uses</th>\n",
       "    </tr>\n",
       "  </thead>\n",
       "  <tbody>\n",
       "    <tr>\n",
       "      <th>0</th>\n",
       "      <td>NaN</td>\n",
       "      <td>Current prices</td>\n",
       "      <td>144582.0</td>\n",
       "      <td>..</td>\n",
       "      <td>..</td>\n",
       "      <td>..</td>\n",
       "      <td>..</td>\n",
       "      <td>..</td>\n",
       "      <td>..</td>\n",
       "      <td>8860.0</td>\n",
       "      <td>...</td>\n",
       "      <td>5231.0</td>\n",
       "      <td>21134.0</td>\n",
       "      <td>20242.0</td>\n",
       "      <td>892.0</td>\n",
       "      <td>750.0</td>\n",
       "      <td>142.0</td>\n",
       "      <td>23110.0</td>\n",
       "      <td>16941.0</td>\n",
       "      <td>6169.0</td>\n",
       "      <td>177847.0</td>\n",
       "    </tr>\n",
       "    <tr>\n",
       "      <th>1</th>\n",
       "      <td>1967</td>\n",
       "      <td>2010-prices, chained values</td>\n",
       "      <td>1089347.0</td>\n",
       "      <td>..</td>\n",
       "      <td>..</td>\n",
       "      <td>..</td>\n",
       "      <td>..</td>\n",
       "      <td>..</td>\n",
       "      <td>..</td>\n",
       "      <td>97473.0</td>\n",
       "      <td>...</td>\n",
       "      <td>63369.0</td>\n",
       "      <td>127631.0</td>\n",
       "      <td>114728.0</td>\n",
       "      <td>-13109.0</td>\n",
       "      <td>32252.0</td>\n",
       "      <td>828.0</td>\n",
       "      <td>123594.0</td>\n",
       "      <td>83094.0</td>\n",
       "      <td>42570.0</td>\n",
       "      <td>1270295.0</td>\n",
       "    </tr>\n",
       "    <tr>\n",
       "      <th>2</th>\n",
       "      <td>NaN</td>\n",
       "      <td>Current prices</td>\n",
       "      <td>155581.0</td>\n",
       "      <td>..</td>\n",
       "      <td>..</td>\n",
       "      <td>..</td>\n",
       "      <td>..</td>\n",
       "      <td>..</td>\n",
       "      <td>..</td>\n",
       "      <td>10308.0</td>\n",
       "      <td>...</td>\n",
       "      <td>5979.0</td>\n",
       "      <td>22851.0</td>\n",
       "      <td>22454.0</td>\n",
       "      <td>397.0</td>\n",
       "      <td>226.0</td>\n",
       "      <td>172.0</td>\n",
       "      <td>24289.0</td>\n",
       "      <td>17654.0</td>\n",
       "      <td>6636.0</td>\n",
       "      <td>192060.0</td>\n",
       "    </tr>\n",
       "    <tr>\n",
       "      <th>3</th>\n",
       "      <td>1968</td>\n",
       "      <td>2010-prices, chained values</td>\n",
       "      <td>1124579.0</td>\n",
       "      <td>..</td>\n",
       "      <td>..</td>\n",
       "      <td>..</td>\n",
       "      <td>..</td>\n",
       "      <td>..</td>\n",
       "      <td>..</td>\n",
       "      <td>113389.0</td>\n",
       "      <td>...</td>\n",
       "      <td>68175.0</td>\n",
       "      <td>133749.0</td>\n",
       "      <td>124490.0</td>\n",
       "      <td>-2688.0</td>\n",
       "      <td>741.0</td>\n",
       "      <td>967.0</td>\n",
       "      <td>128182.0</td>\n",
       "      <td>87606.0</td>\n",
       "      <td>42143.0</td>\n",
       "      <td>1326237.0</td>\n",
       "    </tr>\n",
       "    <tr>\n",
       "      <th>4</th>\n",
       "      <td>NaN</td>\n",
       "      <td>Current prices</td>\n",
       "      <td>167877.0</td>\n",
       "      <td>..</td>\n",
       "      <td>..</td>\n",
       "      <td>..</td>\n",
       "      <td>..</td>\n",
       "      <td>..</td>\n",
       "      <td>..</td>\n",
       "      <td>12509.0</td>\n",
       "      <td>...</td>\n",
       "      <td>6957.0</td>\n",
       "      <td>25369.0</td>\n",
       "      <td>24369.0</td>\n",
       "      <td>1000.0</td>\n",
       "      <td>774.0</td>\n",
       "      <td>226.0</td>\n",
       "      <td>27320.0</td>\n",
       "      <td>19787.0</td>\n",
       "      <td>7533.0</td>\n",
       "      <td>209109.0</td>\n",
       "    </tr>\n",
       "  </tbody>\n",
       "</table>\n",
       "<p>5 rows × 32 columns</p>\n",
       "</div>"
      ],
      "text/plain": [
       "   year                   Unnamed: 1          Y P.11 Market output  \\\n",
       "0   NaN               Current prices   144582.0                 ..   \n",
       "1  1967  2010-prices, chained values  1089347.0                 ..   \n",
       "2   NaN               Current prices   155581.0                 ..   \n",
       "3  1968  2010-prices, chained values  1124579.0                 ..   \n",
       "4   NaN               Current prices   167877.0                 ..   \n",
       "\n",
       "  P.12 Output for own final use P.13 Non-market output  \\\n",
       "0                            ..                     ..   \n",
       "1                            ..                     ..   \n",
       "2                            ..                     ..   \n",
       "3                            ..                     ..   \n",
       "4                            ..                     ..   \n",
       "\n",
       "  P.131 Payment for other non-marked output P.132 Other non-market output  \\\n",
       "0                                        ..                            ..   \n",
       "1                                        ..                            ..   \n",
       "2                                        ..                            ..   \n",
       "3                                        ..                            ..   \n",
       "4                                        ..                            ..   \n",
       "\n",
       "  P.11+P.12+P.131 Market output and output for own final use including payment for other non-marked output  \\\n",
       "0                                                 ..                                                         \n",
       "1                                                 ..                                                         \n",
       "2                                                 ..                                                         \n",
       "3                                                 ..                                                         \n",
       "4                                                 ..                                                         \n",
       "\n",
       "   D.21-D.31 Taxes less subsidies on products  ...  \\\n",
       "0                                      8860.0  ...   \n",
       "1                                     97473.0  ...   \n",
       "2                                     10308.0  ...   \n",
       "3                                    113389.0  ...   \n",
       "4                                     12509.0  ...   \n",
       "\n",
       "   P.32 Government collective consumption expenditure         I  \\\n",
       "0                                             5231.0    21134.0   \n",
       "1                                            63369.0   127631.0   \n",
       "2                                             5979.0    22851.0   \n",
       "3                                            68175.0   133749.0   \n",
       "4                                             6957.0    25369.0   \n",
       "\n",
       "   P.51g Gross fixed capital formation  P.52+P.53 Changes in inventories etc.  \\\n",
       "0                              20242.0                                  892.0   \n",
       "1                             114728.0                               -13109.0   \n",
       "2                              22454.0                                  397.0   \n",
       "3                             124490.0                                -2688.0   \n",
       "4                              24369.0                                 1000.0   \n",
       "\n",
       "   P.52 Changes in inventories  P.53 Acquisitions less disposals of valuables  \\\n",
       "0                        750.0                                          142.0   \n",
       "1                      32252.0                                          828.0   \n",
       "2                        226.0                                          172.0   \n",
       "3                        741.0                                          967.0   \n",
       "4                        774.0                                          226.0   \n",
       "\n",
       "          X  P.61 Export of goods  P.62 Export of services       Uses  \n",
       "0   23110.0               16941.0                   6169.0   177847.0  \n",
       "1  123594.0               83094.0                  42570.0  1270295.0  \n",
       "2   24289.0               17654.0                   6636.0   192060.0  \n",
       "3  128182.0               87606.0                  42143.0  1326237.0  \n",
       "4   27320.0               19787.0                   7533.0   209109.0  \n",
       "\n",
       "[5 rows x 32 columns]"
      ]
     },
     "execution_count": 119,
     "metadata": {},
     "output_type": "execute_result"
    }
   ],
   "source": [
    "# a. Loading the dataset\n",
    "filename = 'data/NAH1_pivoted.xlsx' # open the file and have a look at it\n",
    "df = pd.read_excel(filename, skiprows = 2).head(7)\n",
    "\n",
    "# b. Renaming the variables\n",
    "df.rename(columns = rename_dict, inplace=True)\n",
    "\n",
    "# c. Remove rows where Y is a NaN\n",
    "df = df[pd.notna(df.Y)]\n",
    "\n",
    "# d. Impute observations for year\n",
    "df.rename(columns={'Unnamed: 0': 'year'}, inplace=True)\n",
    "for i in range(5):\n",
    "    df.loc[i,['year']] = df.loc[i+1,['year']].values\n",
    "\n",
    "print(i)\n",
    "J = (1,3,5)\n",
    "I = (0,2,4)\n",
    "print(J)\n",
    "\n",
    "df.loc[j,['year'] for j in J] = df.loc[i,['year']for i in I].values\n",
    "#df.describe()\n",
    "df.head()"
   ]
  },
  {
   "cell_type": "code",
   "execution_count": 121,
   "metadata": {},
   "outputs": [
    {
     "data": {
      "text/plain": [
       "<bound method Series.isna of 0     NaN\n",
       "1    1967\n",
       "2     NaN\n",
       "3    1968\n",
       "4     NaN\n",
       "5     NaN\n",
       "6    1969\n",
       "Name: year, dtype: object>"
      ]
     },
     "execution_count": 121,
     "metadata": {},
     "output_type": "execute_result"
    }
   ],
   "source": [
    "df.yea"
   ]
  },
  {
   "cell_type": "code",
   "execution_count": 81,
   "metadata": {},
   "outputs": [],
   "source": [
    "def _plot_timeseries(dataframe, variable, years):\n",
    "    \n",
    "    fig = plt.figure(dpi=100)\n",
    "    ax = fig.add_subplot(1,1,1)\n",
    "    \n",
    "    dataframe.loc[:,['year']] = pd.to_numeric(dataframe['year'])\n",
    "    I = (dataframe['year'] >= years[0]) & (dataframe['year'] <= years[1])\n",
    "    \n",
    "    x = dataframe.loc[I,'year']\n",
    "    y = dataframe.loc[I,variable]\n",
    "    ax.plot(x,y)\n",
    "    \n",
    "    ax.set_xticks(list(range(years[0], years[1] + 1, 5)))    \n",
    "    \n",
    "def plot_timeseries(dataframe):\n",
    "    \n",
    "    widgets.interact(_plot_timeseries, \n",
    "    dataframe = widgets.fixed(dataframe),\n",
    "    variable = widgets.Dropdown(\n",
    "        description='variable', \n",
    "        options=['Y','C','G','I','X','M'], \n",
    "        value='Y'),\n",
    "    years=widgets.IntRangeSlider(\n",
    "        description=\"years\",\n",
    "        min=1966,\n",
    "        max=2018,\n",
    "        value=[1980, 2018],\n",
    "        continuous_update=False,\n",
    "    )                 \n",
    "); "
   ]
  },
  {
   "cell_type": "markdown",
   "metadata": {},
   "source": [
    "**Hint 1:** You can base your renaming on this dictionary:"
   ]
  },
  {
   "cell_type": "code",
   "execution_count": null,
   "metadata": {},
   "outputs": [],
   "source": [
    "rename_dict = {}\n",
    "rename_dict['P.1 Output'] = 'Y'\n",
    "rename_dict['P.3 Final consumption expenditure'] = 'C'\n",
    "rename_dict['P.3 Government consumption expenditure'] = 'G'\n",
    "rename_dict['P.5 Gross capital formation'] = 'I'\n",
    "rename_dict['P.6 Export of goods and services'] = 'X'\n",
    "rename_dict['P.7 Import of goods and services'] = 'M'"
   ]
  },
  {
   "cell_type": "markdown",
   "metadata": {},
   "source": [
    "**Hint 2:** You code should have the following structure:"
   ]
  },
  {
   "cell_type": "code",
   "execution_count": null,
   "metadata": {},
   "outputs": [],
   "source": [
    "# a. load data set\n",
    "# nah1 = ?\n",
    "\n",
    "# b. rename variables\n",
    "\n",
    "# c. remove rows where Y is nan\n",
    "\n",
    "# d. correct year column data\n",
    "# hint, nah1.loc[J,['year']] = nah1.loc[I,['year']].values\n",
    "\n",
    "# e. only keep rows with '2010-prices, chained values'\n",
    "\n",
    "# f. only keep renamed variables\n",
    "\n",
    "# g. interactive plot\n",
    "# plot_timeseries(nan)"
   ]
  },
  {
   "cell_type": "markdown",
   "metadata": {},
   "source": [
    "**Answer:** see A11.py"
   ]
  },
  {
   "cell_type": "code",
   "execution_count": null,
   "metadata": {},
   "outputs": [
    {
     "ename": "NameError",
     "evalue": "name 'nah1' is not defined",
     "output_type": "error",
     "traceback": [
      "\u001b[0;31m---------------------------------------------------------------------------\u001b[0m",
      "\u001b[0;31mNameError\u001b[0m                                 Traceback (most recent call last)",
      "\u001b[0;32m/var/folders/g2/f_5styjs0d53m4k1mknr83v80000gn/T/ipykernel_55898/892003290.py\u001b[0m in \u001b[0;36m<module>\u001b[0;34m\u001b[0m\n\u001b[0;32m----> 1\u001b[0;31m \u001b[0mplot_timeseries\u001b[0m\u001b[0;34m(\u001b[0m\u001b[0mnah1\u001b[0m\u001b[0;34m)\u001b[0m\u001b[0;34m\u001b[0m\u001b[0;34m\u001b[0m\u001b[0m\n\u001b[0m",
      "\u001b[0;31mNameError\u001b[0m: name 'nah1' is not defined"
     ]
    }
   ],
   "source": [
    "plot_timeseries(nah1)"
   ]
  },
  {
   "cell_type": "markdown",
   "metadata": {},
   "source": [
    "# Extra problems"
   ]
  },
  {
   "cell_type": "markdown",
   "metadata": {},
   "source": [
    "## Extend interactive plot"
   ]
  },
  {
   "cell_type": "markdown",
   "metadata": {},
   "source": [
    "Extend the interactive plot with a choice of *real* vs *nominal*."
   ]
  },
  {
   "cell_type": "markdown",
   "metadata": {},
   "source": [
    "## New data set"
   ]
  },
  {
   "cell_type": "markdown",
   "metadata": {},
   "source": [
    "Load data from an Excel or CSV file you have downloaded from e.g. [Statistikbanken.dk](https://www.statistikbanken.dk/). Clean, structure and present the data as you see fit."
   ]
  }
 ],
 "metadata": {
  "kernelspec": {
   "display_name": "Python 3 (ipykernel)",
   "language": "python",
   "name": "python3"
  },
  "language_info": {
   "codemirror_mode": {
    "name": "ipython",
    "version": 3
   },
   "file_extension": ".py",
   "mimetype": "text/x-python",
   "name": "python",
   "nbconvert_exporter": "python",
   "pygments_lexer": "ipython3",
   "version": "3.9.13"
  },
  "toc-autonumbering": true
 },
 "nbformat": 4,
 "nbformat_minor": 4
}
